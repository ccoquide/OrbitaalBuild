{
 "cells": [
  {
   "cell_type": "code",
   "execution_count": 2,
   "metadata": {},
   "outputs": [],
   "source": [
    "import json\n",
    "from pyspark.sql import SparkSession\n",
    "from pyspark.sql.functions import sort_array, broadcast, collect_list, collect_set,struct, array_sort, explode, posexplode, create_map,from_utc_timestamp, from_unixtime, to_date, sum,count, mean, countDistinct, round\n",
    "from pyspark.sql.functions import year, month, dayofmonth\n",
    "from pyspark.sql.types import IntegerType,StructField,StructType, LongType, FloatType, MapType, DateType,StringType,TimestampType,ArrayType\n",
    "from pyspark.sql.functions import col, when, regexp_replace\n",
    "import pyspark.sql.functions as f\n",
    "\n",
    "from pyspark.sql.functions import monotonically_increasing_id, coalesce, date_trunc, regexp_extract\n",
    "\n",
    "\n",
    "import os\n"
   ]
  },
  {
   "cell_type": "code",
   "execution_count": 3,
   "metadata": {},
   "outputs": [],
   "source": [
    "memory = \"7g\"\n",
    "os.environ[\"PYSPARK_SUBMIT_ARGS\"] = (\n",
    "    ' --conf spark.driver.maxResultSize=' + memory + ' pyspark-shell'\n",
    ")\n",
    "os.environ['PYSPARK_PYTHON'] = '/usr/bin/python3'\n",
    "os.environ['PYSPARK_DRIVER_PYTHON'] = '/usr/bin/python3'\n",
    "\n"
   ]
  },
  {
   "cell_type": "code",
   "execution_count": 4,
   "metadata": {},
   "outputs": [
    {
     "name": "stderr",
     "output_type": "stream",
     "text": [
      "Setting default log level to \"WARN\".\n",
      "To adjust logging level use sc.setLogLevel(newLevel). For SparkR, use setLogLevel(newLevel).\n",
      "25/01/07 13:55:52 WARN NativeCodeLoader: Unable to load native-hadoop library for your platform... using builtin-java classes where applicable\n"
     ]
    },
    {
     "data": {
      "text/plain": [
       "'http://liris502-x003.insa-lyon.fr:4040'"
      ]
     },
     "execution_count": 4,
     "metadata": {},
     "output_type": "execute_result"
    }
   ],
   "source": [
    "spark = SparkSession \\\n",
    "    .builder \\\n",
    "    .getOrCreate()\n",
    "spark.sparkContext.uiWebUrl\n",
    "\n"
   ]
  },
  {
   "cell_type": "code",
   "execution_count": 39,
   "metadata": {},
   "outputs": [],
   "source": []
  },
  {
   "cell_type": "code",
   "execution_count": 5,
   "metadata": {},
   "outputs": [],
   "source": [
    "outputs_file = spark.read.load(\"data/final/enrichedOutputs\")"
   ]
  },
  {
   "cell_type": "code",
   "execution_count": 6,
   "metadata": {},
   "outputs": [
    {
     "name": "stderr",
     "output_type": "stream",
     "text": [
      "25/01/07 13:56:05 WARN SparkStringUtils: Truncated the string representation of a plan since it was too large. This behavior can be adjusted by setting 'spark.sql.debug.maxToStringFields'.\n"
     ]
    },
    {
     "name": "stdout",
     "output_type": "stream",
     "text": [
      "+-----------+-----------+--------------------+--------------------+----+---------+----------+---------+----------+----------+----+-----+---+-----+---+--------+----------+-------------------+--------+--------------------+------------+------------+--------------------+------------+------------+--------------------+\n",
      "|     id_dst|     id_src|                 dst|                 src|trID|output_id|     value|nb_inputs|nb_outputs| timestamp|year|month|day| bloc|fee|total_in| total_out|           PriceUSD|HashRate|            valueUSD|      src_cl|src_identity|src_identity_radical|      dst_cl|dst_identity|dst_identity_radical|\n",
      "+-----------+-----------+--------------------+--------------------+----+---------+----------+---------+----------+----------+----+-----+---+-----+---+--------+----------+-------------------+--------+--------------------+------------+------------+--------------------+------------+------------+--------------------+\n",
      "|       6641|       NULL|nonstandardf10dd3...|              mining|   0|        0|5000000000|        0|         1|1289862546|2010|   11| 16|92068|  0|       0|5000000000|0.22499999403953552|       0|  11.249999701976776|        NULL|        NULL|                NULL|-17179874669|        NULL|                NULL|\n",
      "|42949675421|42949673499|12wmLv9BrJrpFF1Tx...|1BBqEAQySWrJPKCFa...|   1|        0|   1000000|        1|         1|1289862546|2010|   11| 16|92068|  0| 1000000|   1000000|0.22499999403953552|       0|0.002249999940395...|-51539608048|        NULL|                NULL|-51539609859|        NULL|                NULL|\n",
      "|42949675421|42949673499|12wmLv9BrJrpFF1Tx...|1BBqEAQySWrJPKCFa...|   2|        0|   1000000|        1|         1|1289862546|2010|   11| 16|92068|  0| 1000000|   1000000|0.22499999403953552|       0|0.002249999940395...|-51539608048|        NULL|                NULL|-51539609859|        NULL|                NULL|\n",
      "|42949675421|42949673499|12wmLv9BrJrpFF1Tx...|1BBqEAQySWrJPKCFa...|   3|        0|   1000000|        1|         1|1289862546|2010|   11| 16|92068|  0| 1000000|   1000000|0.22499999403953552|       0|0.002249999940395...|-51539608048|        NULL|                NULL|-51539609859|        NULL|                NULL|\n",
      "|42949675421|42949673499|12wmLv9BrJrpFF1Tx...|1BBqEAQySWrJPKCFa...|   4|        0|   1000000|        1|         1|1289862546|2010|   11| 16|92068|  0| 1000000|   1000000|0.22499999403953552|       0|0.002249999940395...|-51539608048|        NULL|                NULL|-51539609859|        NULL|                NULL|\n",
      "+-----------+-----------+--------------------+--------------------+----+---------+----------+---------+----------+----------+----+-----+---+-----+---+--------+----------+-------------------+--------+--------------------+------------+------------+--------------------+------------+------------+--------------------+\n",
      "only showing top 5 rows\n",
      "\n"
     ]
    }
   ],
   "source": [
    "outputs_file.show(5)"
   ]
  },
  {
   "cell_type": "code",
   "execution_count": 9,
   "metadata": {},
   "outputs": [
    {
     "name": "stdout",
     "output_type": "stream",
     "text": [
      "+--------------------+\n",
      "|count(DISTINCT bloc)|\n",
      "+--------------------+\n",
      "|              100000|\n",
      "+--------------------+\n",
      "\n"
     ]
    }
   ],
   "source": [
    "#count the number of unique blocs\n",
    "outputs_file.select(countDistinct(\"bloc\")).show()"
   ]
  },
  {
   "cell_type": "code",
   "execution_count": 10,
   "metadata": {},
   "outputs": [
    {
     "name": "stdout",
     "output_type": "stream",
     "text": [
      "+--------------------+\n",
      "|count(DISTINCT trID)|\n",
      "+--------------------+\n",
      "|              216573|\n",
      "+--------------------+\n",
      "\n"
     ]
    }
   ],
   "source": [
    "#count the number of unique transactions\n",
    "outputs_file.select(countDistinct(\"trID\")).show()"
   ]
  },
  {
   "cell_type": "code",
   "execution_count": 11,
   "metadata": {},
   "outputs": [
    {
     "name": "stdout",
     "output_type": "stream",
     "text": [
      "+-------------------+\n",
      "|count(DISTINCT src)|\n",
      "+-------------------+\n",
      "|              63108|\n",
      "+-------------------+\n",
      "\n"
     ]
    }
   ],
   "source": [
    "#coutn the number of unique addresses in src\n",
    "outputs_file.select(countDistinct(\"src\")).show()"
   ]
  },
  {
   "cell_type": "code",
   "execution_count": 12,
   "metadata": {},
   "outputs": [
    {
     "name": "stdout",
     "output_type": "stream",
     "text": [
      "+----------------------+\n",
      "|count(DISTINCT id_src)|\n",
      "+----------------------+\n",
      "|                 63107|\n",
      "+----------------------+\n",
      "\n"
     ]
    }
   ],
   "source": [
    "outputs_file.select(countDistinct(\"id_src\")).show()"
   ]
  },
  {
   "cell_type": "code",
   "execution_count": 13,
   "metadata": {},
   "outputs": [
    {
     "name": "stdout",
     "output_type": "stream",
     "text": [
      "+----------------------+\n",
      "|count(DISTINCT src_cl)|\n",
      "+----------------------+\n",
      "|                 60244|\n",
      "+----------------------+\n",
      "\n"
     ]
    }
   ],
   "source": [
    "#count the number of different users in input\n",
    "outputs_file.select(countDistinct(\"src_cl\")).show()"
   ]
  },
  {
   "cell_type": "code",
   "execution_count": 14,
   "metadata": {},
   "outputs": [
    {
     "name": "stdout",
     "output_type": "stream",
     "text": [
      "+--------------------+\n",
      "|src_identity_radical|\n",
      "+--------------------+\n",
      "|        CoinJoinMess|\n",
      "|                NULL|\n",
      "+--------------------+\n",
      "\n"
     ]
    }
   ],
   "source": [
    "#list all different users names\n",
    "outputs_file.select(\"src_identity_radical\").distinct().show()"
   ]
  },
  {
   "cell_type": "code",
   "execution_count": null,
   "metadata": {},
   "outputs": [],
   "source": []
  }
 ],
 "metadata": {
  "kernelspec": {
   "display_name": "base",
   "language": "python",
   "name": "python3"
  },
  "language_info": {
   "codemirror_mode": {
    "name": "ipython",
    "version": 3
   },
   "file_extension": ".py",
   "mimetype": "text/x-python",
   "name": "python",
   "nbconvert_exporter": "python",
   "pygments_lexer": "ipython3",
   "version": "3.8.8"
  }
 },
 "nbformat": 4,
 "nbformat_minor": 2
}
